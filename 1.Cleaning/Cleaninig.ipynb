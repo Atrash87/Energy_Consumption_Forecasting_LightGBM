{
 "cells": [
  {
   "cell_type": "code",
   "execution_count": 1,
   "id": "49319859",
   "metadata": {},
   "outputs": [],
   "source": [
    "import pandas as pd\n",
    "import numpy as np"
   ]
  },
  {
   "cell_type": "code",
   "execution_count": null,
   "id": "fab91b51",
   "metadata": {},
   "outputs": [],
   "source": [
    "# Read the text file\n",
    "txt_file_path = \"energy.txt\"\n",
    "csv_file_path = \"EnergyData.csv\"\n",
    "\n",
    "df = pd.read_csv(\n",
    "    txt_file_path,\n",
    "    sep=\";\", \n",
    "    quotechar='\"',\n",
    "    decimal=\",\",\n",
    "    low_memory=True\n",
    ")\n",
    "# save as csv\n",
    "df.to_csv(csv_file_path, index=False)\n",
    "print(f\"Saved as {csv_file_path}\")"
   ]
  },
  {
   "cell_type": "code",
   "execution_count": null,
   "id": "0bff712c",
   "metadata": {},
   "outputs": [],
   "source": [
    "# Path to your file (change this to your actual path)\n",
    "file_path = r\"D:\\GIT hub projects\\Forcasting\\EnergyData.csv\"\n",
    "\n",
    "# Load CSV and parse DateTime\n",
    "df = pd.read_csv(file_path, parse_dates=[\"DateTime\"])\n",
    "\n",
    "# Set DateTime as index\n",
    "df.set_index(\"DateTime\", inplace=True)\n",
    "\n",
    "# Inspect the first rows\n",
    "print(df.head())\n",
    "print(df.info())\n"
   ]
  },
  {
   "cell_type": "code",
   "execution_count": 3,
   "id": "dfdc689c",
   "metadata": {},
   "outputs": [
    {
     "name": "stdout",
     "output_type": "stream",
     "text": [
      "Shape after dropping all-zero columns: (140256, 370)\n"
     ]
    }
   ],
   "source": [
    "# Basic statistics\n",
    "df.shape\n",
    "df.isnull().sum().sum()\n",
    "df.describe().iloc[:, :10]\n",
    "\n",
    "# Drop columns that are completely zero\n",
    "df = df.loc[:, (df != 0).any(axis=0)]\n",
    "\n",
    "# data frequency\n",
    "df.index.to_series().diff().value_counts().head()\n",
    "\n",
    "print(f\"Shape after dropping all-zero columns: {df.shape}\")"
   ]
  },
  {
   "cell_type": "code",
   "execution_count": null,
   "id": "50c845bc",
   "metadata": {},
   "outputs": [],
   "source": [
    "# Load CSV\n",
    "file_path = r\"D:\\GIT hub projects\\Forcasting\\EnergyData.csv\"\n",
    "df = pd.read_csv(file_path, parse_dates=[\"DateTime\"], index_col=\"DateTime\")\n",
    "\n",
    "# Clean it\n",
    "df_clean = clean_data(df)\n",
    "\n",
    "\n",
    "# Aggregate daily and monthly\n",
    "agg = aggregate_time_series(df_clean, freq_list=[\"D\", \"M\"])\n",
    "df_daily = agg[\"D\"]\n",
    "df_monthly = agg[\"M\"]\n",
    "\n",
    "# Save cleaned dataset\n",
    "#df_clean.to_csv(\"EnergyData_clean.csv\")\n"
   ]
  }
 ],
 "metadata": {
  "kernelspec": {
   "display_name": "base",
   "language": "python",
   "name": "python3"
  },
  "language_info": {
   "codemirror_mode": {
    "name": "ipython",
    "version": 3
   },
   "file_extension": ".py",
   "mimetype": "text/x-python",
   "name": "python",
   "nbconvert_exporter": "python",
   "pygments_lexer": "ipython3",
   "version": "3.13.5"
  }
 },
 "nbformat": 4,
 "nbformat_minor": 5
}
